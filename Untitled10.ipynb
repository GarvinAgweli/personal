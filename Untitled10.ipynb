{
  "nbformat": 4,
  "nbformat_minor": 0,
  "metadata": {
    "colab": {
      "provenance": [],
      "authorship_tag": "ABX9TyOhCi0vps0mv9AT6qbVDwjk",
      "include_colab_link": true
    },
    "kernelspec": {
      "name": "python3",
      "display_name": "Python 3"
    },
    "language_info": {
      "name": "python"
    }
  },
  "cells": [
    {
      "cell_type": "markdown",
      "metadata": {
        "id": "view-in-github",
        "colab_type": "text"
      },
      "source": [
        "<a href=\"https://colab.research.google.com/github/GarvinAgweli/personal/blob/main/Untitled10.ipynb\" target=\"_parent\"><img src=\"https://colab.research.google.com/assets/colab-badge.svg\" alt=\"Open In Colab\"/></a>"
      ]
    },
    {
      "cell_type": "code",
      "execution_count": 20,
      "metadata": {
        "colab": {
          "base_uri": "https://localhost:8080/"
        },
        "id": "xFEYBk9zAjCo",
        "outputId": "933aadff-cdba-4e2c-91ba-1a64bd4d0976"
      },
      "outputs": [
        {
          "name": "stdout",
          "output_type": "stream",
          "text": [
            "Enter an operator(+ - / *):/\n"
          ]
        }
      ],
      "source": [
        "operator= input(\"Enter an operator(+ - / *):\")"
      ]
    },
    {
      "cell_type": "code",
      "source": [
        "num_1=int(input(\"Enter first number:\"))\n",
        "num_2=int(input(\"Enter second number:\"))"
      ],
      "metadata": {
        "colab": {
          "base_uri": "https://localhost:8080/"
        },
        "id": "0E0WTJ1dBKcI",
        "outputId": "df1ff762-f428-4890-bd28-5a44192e9521"
      },
      "execution_count": 21,
      "outputs": [
        {
          "name": "stdout",
          "output_type": "stream",
          "text": [
            "Enter first number:100\n",
            "Enter second number:4\n"
          ]
        }
      ]
    },
    {
      "cell_type": "code",
      "source": [
        "if operator == \"+\":\n",
        "    result=num_1+num_2\n",
        "    print(f\"{num_1}+{num_2}={result}\")\n",
        "elif operator == \"-\":\n",
        "    result=num_1-num_2\n",
        "    print(f\"{num_1}-{num_2}={result}\")\n",
        "elif operator == \"*\":\n",
        "    result=num_1*num_2\n",
        "    print(f\"{num_1}*{num_2}={result}\")\n",
        "elif operator == \"/\":\n",
        "    result=num_1/num_2\n",
        "    print(f\"{num_1}/{num_2}={result}\")\n",
        "else:\n",
        "    print(\"invalid operator\")"
      ],
      "metadata": {
        "colab": {
          "base_uri": "https://localhost:8080/"
        },
        "id": "n8FlNjS3B2Q2",
        "outputId": "07f7abc9-7103-4410-b28f-b23d1917c341"
      },
      "execution_count": 22,
      "outputs": [
        {
          "output_type": "stream",
          "name": "stdout",
          "text": [
            "100/4=25.0\n"
          ]
        }
      ]
    }
  ]
}