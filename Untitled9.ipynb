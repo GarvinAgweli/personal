{
  "nbformat": 4,
  "nbformat_minor": 0,
  "metadata": {
    "colab": {
      "provenance": [],
      "authorship_tag": "ABX9TyMgVJAMEPAo6+uSw13/kOdH",
      "include_colab_link": true
    },
    "kernelspec": {
      "name": "python3",
      "display_name": "Python 3"
    },
    "language_info": {
      "name": "python"
    }
  },
  "cells": [
    {
      "cell_type": "markdown",
      "metadata": {
        "id": "view-in-github",
        "colab_type": "text"
      },
      "source": [
        "<a href=\"https://colab.research.google.com/github/GarvinAgweli/personal/blob/main/Untitled9.ipynb\" target=\"_parent\"><img src=\"https://colab.research.google.com/assets/colab-badge.svg\" alt=\"Open In Colab\"/></a>"
      ]
    },
    {
      "cell_type": "code",
      "execution_count": 1,
      "metadata": {
        "id": "Ur3-KCzE0t6n"
      },
      "outputs": [],
      "source": [
        "import random"
      ]
    },
    {
      "cell_type": "code",
      "source": [
        "options=(\"Rock\",\"Paper\",\"Scissors\")"
      ],
      "metadata": {
        "id": "wRpvaEPQ2WVp"
      },
      "execution_count": 2,
      "outputs": []
    },
    {
      "cell_type": "code",
      "source": [
        "player=player_name=input(\"Enter your name\")\n",
        "computer=random.choice(options)\n",
        "running=True\n",
        "player_score = 0\n",
        "computer_score = 0\n",
        "round_count = 0"
      ],
      "metadata": {
        "id": "oCtVQXtk2qKK",
        "colab": {
          "base_uri": "https://localhost:8080/"
        },
        "outputId": "e84d589e-f5ba-43e3-edd9-8b4978041783"
      },
      "execution_count": 3,
      "outputs": [
        {
          "name": "stdout",
          "output_type": "stream",
          "text": [
            "Enter your nameGarvin\n"
          ]
        }
      ]
    },
    {
      "cell_type": "code",
      "source": [
        "while running:\n",
        "  player=input(\"Enter a choice(Rock,Paper,Scissor)\")\n",
        "  while player not in options:\n",
        "      player=input(\"Enter a choice(Rock,Paper,Scissor)\")\n",
        "\n",
        "  computer=random.choice(options)\n",
        "\n",
        "  print(f\"player,{player}\")\n",
        "  print(f\"computer,{computer}\")\n",
        "\n",
        "  if player==computer:\n",
        "      print(\"it's a tie\")\n",
        "  elif (player==\"Rock\"and computer==\"Scissors\") or \\\n",
        "       (player==\"Paper\" and computer==\"Rock\") or \\\n",
        "       (player==\"Scissors\"and computer==\"Paper\"):\n",
        "      print(\"player wins\")\n",
        "      player_score += 1\n",
        "  else:\n",
        "      print(\"You lose LOL\")\n",
        "      computer_score += 1\n",
        "\n",
        "  print(f\"Score: {player_name}: {player_score}, Computer: {computer_score}\")\n",
        "\n",
        "  round_count += 1\n",
        "\n",
        "  if player_score == 2:\n",
        "      print(f\"{player_name} wins the best of three!\")\n",
        "      running = False\n",
        "  elif computer_score == 2:\n",
        "      print(\"Computer wins the best of three!\")\n",
        "      running = False\n",
        "  elif round_count == 3:\n",
        "      print(\"Three rounds have passed. The game ends.\")\n",
        "      running = False"
      ],
      "metadata": {
        "colab": {
          "base_uri": "https://localhost:8080/"
        },
        "id": "3MfpIPR23AV9",
        "outputId": "0a04e6d0-60e1-44e0-869f-e7009f6600a1"
      },
      "execution_count": 4,
      "outputs": [
        {
          "output_type": "stream",
          "name": "stdout",
          "text": [
            "Enter a choice(Rock,Paper,Scissor)Rock\n",
            "player,Rock\n",
            "computer,Rock\n",
            "it's a tie\n",
            "Score: Garvin: 0, Computer: 0\n",
            "Enter a choice(Rock,Paper,Scissor)Rock\n",
            "player,Rock\n",
            "computer,Rock\n",
            "it's a tie\n",
            "Score: Garvin: 0, Computer: 0\n",
            "Enter a choice(Rock,Paper,Scissor)paper\n",
            "Enter a choice(Rock,Paper,Scissor)Paper\n",
            "player,Paper\n",
            "computer,Rock\n",
            "player wins\n",
            "Score: Garvin: 1, Computer: 0\n",
            "Three rounds have passed. The game ends.\n"
          ]
        }
      ]
    }
  ]
}